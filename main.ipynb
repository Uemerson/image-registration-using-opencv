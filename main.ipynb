{
  "nbformat": 4,
  "nbformat_minor": 0,
  "metadata": {
    "colab": {
      "name": "image-registration-using-opencv.ipynb",
      "provenance": [],
      "collapsed_sections": [],
      "authorship_tag": "ABX9TyOHvgkr+L4vzGdauqRcZmCR",
      "include_colab_link": true
    },
    "kernelspec": {
      "name": "python3",
      "display_name": "Python 3"
    }
  },
  "cells": [
    {
      "cell_type": "markdown",
      "metadata": {
        "id": "view-in-github",
        "colab_type": "text"
      },
      "source": [
        "<a href=\"https://colab.research.google.com/github/Uemerson/image-registration-using-opencv/blob/main/main.ipynb\" target=\"_parent\"><img src=\"https://colab.research.google.com/assets/colab-badge.svg\" alt=\"Open In Colab\"/></a>"
      ]
    },
    {
      "cell_type": "code",
      "metadata": {
        "id": "17dKZ32zSTey",
        "colab": {
          "base_uri": "https://localhost:8080/",
          "height": 34
        },
        "outputId": "85f90468-c7b1-4b64-d0bd-6b59e2ee50b0"
      },
      "source": [
        "!pip install imutils"
      ],
      "execution_count": null,
      "outputs": [
        {
          "output_type": "stream",
          "text": [
            "Requirement already satisfied: imutils in /usr/local/lib/python3.6/dist-packages (0.5.3)\n"
          ],
          "name": "stdout"
        }
      ]
    },
    {
      "cell_type": "code",
      "metadata": {
        "id": "nuCq4Q1IQO4d",
        "colab": {
          "base_uri": "https://localhost:8080/",
          "height": 34
        },
        "outputId": "697557c3-e4bf-468c-dec4-071152e8f1e7"
      },
      "source": [
        "import cv2 \n",
        "import numpy as np \n",
        "import os\n",
        "import imutils\n",
        "from google.colab.patches import cv2_imshow\n",
        "import matplotlib.pyplot as plt\n",
        "\n",
        "# mount drive\n",
        "from google.colab import drive\n",
        "drive.mount('/content/gdrive')"
      ],
      "execution_count": null,
      "outputs": [
        {
          "output_type": "stream",
          "text": [
            "Drive already mounted at /content/gdrive; to attempt to forcibly remount, call drive.mount(\"/content/gdrive\", force_remount=True).\n"
          ],
          "name": "stdout"
        }
      ]
    },
    {
      "cell_type": "code",
      "metadata": {
        "id": "6lFpmrSnQWvM"
      },
      "source": [
        "# Reference image: img2_color\n",
        "# Image to be aligned: img1_color\n",
        "\n",
        "def homographyOpenCV(img2_color, img1_color):   \n",
        "  # Convert to grayscale. \n",
        "  img1 = cv2.cvtColor(img1_color, cv2.COLOR_BGR2GRAY) \n",
        "  img2 = cv2.cvtColor(img2_color, cv2.COLOR_BGR2GRAY) \n",
        "  height, width = img2.shape \n",
        "    \n",
        "  # Create ORB detector with 5000 features. \n",
        "  orb_detector = cv2.ORB_create(5000) \n",
        "    \n",
        "  # Find keypoints and descriptors. \n",
        "  # The first arg is the image, second arg is the mask \n",
        "  #  (which is not reqiured in this case). \n",
        "  kp1, d1 = orb_detector.detectAndCompute(img1, None) \n",
        "  kp2, d2 = orb_detector.detectAndCompute(img2, None) \n",
        "    \n",
        "  # Match features between the two images. \n",
        "  # We create a Brute Force matcher with  \n",
        "  # Hamming distance as measurement mode. \n",
        "  matcher = cv2.BFMatcher(cv2.NORM_HAMMING, crossCheck = True) \n",
        "    \n",
        "  # Match the two sets of descriptors. \n",
        "  matches = matcher.match(d1, d2) \n",
        "    \n",
        "  # Sort matches on the basis of their Hamming distance. \n",
        "  matches.sort(key = lambda x: x.distance) \n",
        "    \n",
        "  # Take the top 90 % matches forward. \n",
        "  matches = matches[:int(len(matches)*90)] \n",
        "  no_of_matches = len(matches) \n",
        "    \n",
        "  # Define empty matrices of shape no_of_matches * 2. \n",
        "  p1 = np.zeros((no_of_matches, 2)) \n",
        "  p2 = np.zeros((no_of_matches, 2)) \n",
        "    \n",
        "  for i in range(len(matches)): \n",
        "    p1[i, :] = kp1[matches[i].queryIdx].pt \n",
        "    p2[i, :] = kp2[matches[i].trainIdx].pt \n",
        "    \n",
        "  # Find the homography matrix. \n",
        "  homography, mask = cv2.findHomography(p1, p2, cv2.RANSAC) \n",
        "    \n",
        "  # Use this matrix to transform the \n",
        "  # colored image wrt the reference image. \n",
        "  transformed_img = cv2.warpPerspective(img1_color, \n",
        "                      homography, (width, height)) \n",
        "  \n",
        "  return transformed_img"
      ],
      "execution_count": null,
      "outputs": []
    },
    {
      "cell_type": "code",
      "metadata": {
        "id": "hTgowieoPuMc"
      },
      "source": [
        "def files_path05(arg):\n",
        "  for p, _, files in os.walk(os.path.abspath(arg)):\n",
        "    for file in files:\n",
        "      print(os.path.join(p, file))\n",
        "\n",
        "      referenceImg = cv2.imread(os.path.join(p, file))\n",
        "\n",
        "      rotated30 = imutils.rotate_bound(referenceImg, 30)\n",
        "      rotated60 = imutils.rotate_bound(referenceImg, 60)\n",
        "      rotated90 = imutils.rotate_bound(referenceImg, 90)\n",
        "      translate = imutils.translate(referenceImg, 25, -75)\n",
        "      resize = imutils.resize(referenceImg, width=320, height=320)\n",
        "\n",
        "      homography30 = homographyOpenCV(referenceImg, rotated30)\n",
        "      homography60 = homographyOpenCV(referenceImg, rotated60)\n",
        "      homography90 = homographyOpenCV(referenceImg, rotated90)\n",
        "      homographyTranslate = homographyOpenCV(referenceImg, translate)\n",
        "      homographyResize = homographyOpenCV(referenceImg, resize)\n",
        "\n",
        "      fig = plt.figure(figsize=(20, 15))\n",
        "      \n",
        "      plt.subplot(6, 2, 1), plt.title('Imagem de referência', size=20), plt.axis('off'), plt.imshow(referenceImg)\n",
        "      plt.subplot(6, 2, 2), plt.title('Rotação de 30 graus', size=20), plt.axis('off'), plt.imshow(rotated30)\n",
        "      plt.subplot(6, 2, 3), plt.title('Rotação de 60 graus', size=20), plt.axis('off'), plt.imshow(rotated60)\n",
        "      plt.subplot(6, 2, 4), plt.title('Rotação de 90 graus', size=20), plt.axis('off'), plt.imshow(rotated90)\n",
        "      plt.subplot(6, 2, 5), plt.title('Translação x=25, y=-75', size=20), plt.axis('off'), plt.imshow(translate)\n",
        "      plt.subplot(6, 2, 6), plt.title('Redimensionamento 320x320', size=20), plt.axis('off'), plt.imshow(resize)              \n",
        "      plt.subplot(6, 2, 7), plt.title('Homography de 30 graus', size=20), plt.axis('off'), plt.imshow(homography30)\n",
        "      plt.subplot(6, 2, 8), plt.title('Homography de 60 graus', size=20), plt.axis('off'), plt.imshow(homography60)\n",
        "      plt.subplot(6, 2, 9), plt.title('Homography de 90 graus', size=20), plt.axis('off'), plt.imshow(homography90)\n",
        "      plt.subplot(6, 2, 10), plt.title('Homography translação x=25, y=-75', size=20), plt.axis('off'), plt.imshow(homographyTranslate)\n",
        "      plt.subplot(6, 2, 11), plt.title('Homography redimensionamento 320x320', size=20), plt.axis('off'), plt.imshow(homographyResize)\n",
        "      \n",
        "      plt.tight_layout()\n",
        "      # plt.show()\n",
        "\n",
        "      plt.savefig(\n",
        "          os.path.join(p, file).replace('/dataset/', '/output/'), \n",
        "          bbox_inches = 'tight')\n",
        "      \n",
        "      fig.clf()\n",
        "      plt.close(fig)\n",
        "  \n",
        "  print('finish')"
      ],
      "execution_count": null,
      "outputs": []
    },
    {
      "cell_type": "code",
      "metadata": {
        "id": "LCqZd0lORx9S",
        "colab": {
          "base_uri": "https://localhost:8080/",
          "height": 1000
        },
        "outputId": "5eb04013-dcde-4320-b158-8fdd6bbc1f32"
      },
      "source": [
        "path_gdrive = '/content/gdrive/My Drive/Colab Notebooks/dataset/samples-of-mr-images-1.0.0/' \n",
        "files_path05(path_gdrive)"
      ],
      "execution_count": null,
      "outputs": [
        {
          "output_type": "stream",
          "text": [
            "/content/gdrive/My Drive/Colab Notebooks/dataset/samples-of-mr-images-1.0.0/E1154S7I004.png\n",
            "/content/gdrive/My Drive/Colab Notebooks/dataset/samples-of-mr-images-1.0.0/E1154S7I000.png\n",
            "/content/gdrive/My Drive/Colab Notebooks/dataset/samples-of-mr-images-1.0.0/E1154S7I006.png\n",
            "/content/gdrive/My Drive/Colab Notebooks/dataset/samples-of-mr-images-1.0.0/E1154S7I003.png\n",
            "/content/gdrive/My Drive/Colab Notebooks/dataset/samples-of-mr-images-1.0.0/E1154S7I001.png\n",
            "/content/gdrive/My Drive/Colab Notebooks/dataset/samples-of-mr-images-1.0.0/E1154S7I007.png\n",
            "/content/gdrive/My Drive/Colab Notebooks/dataset/samples-of-mr-images-1.0.0/E1154S7I005.png\n",
            "/content/gdrive/My Drive/Colab Notebooks/dataset/samples-of-mr-images-1.0.0/E1154S7I002.png\n",
            "/content/gdrive/My Drive/Colab Notebooks/dataset/samples-of-mr-images-1.0.0/E1154S7I008.png\n",
            "/content/gdrive/My Drive/Colab Notebooks/dataset/samples-of-mr-images-1.0.0/E1154S7I015.png\n",
            "/content/gdrive/My Drive/Colab Notebooks/dataset/samples-of-mr-images-1.0.0/E1154S7I016.png\n",
            "/content/gdrive/My Drive/Colab Notebooks/dataset/samples-of-mr-images-1.0.0/E1154S7I018.png\n",
            "/content/gdrive/My Drive/Colab Notebooks/dataset/samples-of-mr-images-1.0.0/E1154S7I011.png\n",
            "/content/gdrive/My Drive/Colab Notebooks/dataset/samples-of-mr-images-1.0.0/E1154S7I014.png\n",
            "/content/gdrive/My Drive/Colab Notebooks/dataset/samples-of-mr-images-1.0.0/E1154S7I017.png\n",
            "/content/gdrive/My Drive/Colab Notebooks/dataset/samples-of-mr-images-1.0.0/E1154S7I009.png\n",
            "/content/gdrive/My Drive/Colab Notebooks/dataset/samples-of-mr-images-1.0.0/E1154S7I012.png\n",
            "/content/gdrive/My Drive/Colab Notebooks/dataset/samples-of-mr-images-1.0.0/E1154S7I010.png\n",
            "/content/gdrive/My Drive/Colab Notebooks/dataset/samples-of-mr-images-1.0.0/E1154S7I013.png\n",
            "/content/gdrive/My Drive/Colab Notebooks/dataset/samples-of-mr-images-1.0.0/E1154S7I024.png\n",
            "/content/gdrive/My Drive/Colab Notebooks/dataset/samples-of-mr-images-1.0.0/E1154S7I028.png\n",
            "/content/gdrive/My Drive/Colab Notebooks/dataset/samples-of-mr-images-1.0.0/E1154S7I019.png\n",
            "/content/gdrive/My Drive/Colab Notebooks/dataset/samples-of-mr-images-1.0.0/E1154S7I030.png\n",
            "/content/gdrive/My Drive/Colab Notebooks/dataset/samples-of-mr-images-1.0.0/E1154S7I022.png\n",
            "/content/gdrive/My Drive/Colab Notebooks/dataset/samples-of-mr-images-1.0.0/E1154S7I025.png\n",
            "/content/gdrive/My Drive/Colab Notebooks/dataset/samples-of-mr-images-1.0.0/E1154S7I029.png\n",
            "/content/gdrive/My Drive/Colab Notebooks/dataset/samples-of-mr-images-1.0.0/E1154S7I026.png\n",
            "/content/gdrive/My Drive/Colab Notebooks/dataset/samples-of-mr-images-1.0.0/E1154S7I020.png\n",
            "/content/gdrive/My Drive/Colab Notebooks/dataset/samples-of-mr-images-1.0.0/E1154S7I021.png\n",
            "/content/gdrive/My Drive/Colab Notebooks/dataset/samples-of-mr-images-1.0.0/E1154S7I027.png\n",
            "/content/gdrive/My Drive/Colab Notebooks/dataset/samples-of-mr-images-1.0.0/E1154S7I023.png\n",
            "/content/gdrive/My Drive/Colab Notebooks/dataset/samples-of-mr-images-1.0.0/E1154S7I032.png\n",
            "/content/gdrive/My Drive/Colab Notebooks/dataset/samples-of-mr-images-1.0.0/E1154S7I043.png\n",
            "/content/gdrive/My Drive/Colab Notebooks/dataset/samples-of-mr-images-1.0.0/E1154S7I042.png\n",
            "/content/gdrive/My Drive/Colab Notebooks/dataset/samples-of-mr-images-1.0.0/E1154S7I036.png\n",
            "/content/gdrive/My Drive/Colab Notebooks/dataset/samples-of-mr-images-1.0.0/E1154S7I035.png\n",
            "/content/gdrive/My Drive/Colab Notebooks/dataset/samples-of-mr-images-1.0.0/E1154S7I041.png\n",
            "/content/gdrive/My Drive/Colab Notebooks/dataset/samples-of-mr-images-1.0.0/E1154S7I039.png\n",
            "/content/gdrive/My Drive/Colab Notebooks/dataset/samples-of-mr-images-1.0.0/E1154S7I033.png\n",
            "/content/gdrive/My Drive/Colab Notebooks/dataset/samples-of-mr-images-1.0.0/E1154S7I031.png\n",
            "/content/gdrive/My Drive/Colab Notebooks/dataset/samples-of-mr-images-1.0.0/E1154S7I040.png\n",
            "/content/gdrive/My Drive/Colab Notebooks/dataset/samples-of-mr-images-1.0.0/E1154S7I034.png\n",
            "/content/gdrive/My Drive/Colab Notebooks/dataset/samples-of-mr-images-1.0.0/E1154S7I038.png\n",
            "/content/gdrive/My Drive/Colab Notebooks/dataset/samples-of-mr-images-1.0.0/E1154S7I037.png\n",
            "/content/gdrive/My Drive/Colab Notebooks/dataset/samples-of-mr-images-1.0.0/E1154S7I044.png\n",
            "/content/gdrive/My Drive/Colab Notebooks/dataset/samples-of-mr-images-1.0.0/E1154S7I047.png\n",
            "/content/gdrive/My Drive/Colab Notebooks/dataset/samples-of-mr-images-1.0.0/E1154S7I055.png\n",
            "/content/gdrive/My Drive/Colab Notebooks/dataset/samples-of-mr-images-1.0.0/E1154S7I050.png\n",
            "/content/gdrive/My Drive/Colab Notebooks/dataset/samples-of-mr-images-1.0.0/E1154S7I046.png\n",
            "/content/gdrive/My Drive/Colab Notebooks/dataset/samples-of-mr-images-1.0.0/E1154S7I054.png\n",
            "/content/gdrive/My Drive/Colab Notebooks/dataset/samples-of-mr-images-1.0.0/E1154S7I053.png\n",
            "/content/gdrive/My Drive/Colab Notebooks/dataset/samples-of-mr-images-1.0.0/E1154S7I048.png\n",
            "/content/gdrive/My Drive/Colab Notebooks/dataset/samples-of-mr-images-1.0.0/E1154S7I056.png\n",
            "/content/gdrive/My Drive/Colab Notebooks/dataset/samples-of-mr-images-1.0.0/E1154S7I051.png\n",
            "/content/gdrive/My Drive/Colab Notebooks/dataset/samples-of-mr-images-1.0.0/E1154S7I052.png\n",
            "/content/gdrive/My Drive/Colab Notebooks/dataset/samples-of-mr-images-1.0.0/E1154S7I049.png\n",
            "/content/gdrive/My Drive/Colab Notebooks/dataset/samples-of-mr-images-1.0.0/E1154S7I045.png\n",
            "/content/gdrive/My Drive/Colab Notebooks/dataset/samples-of-mr-images-1.0.0/E1154S7I057.png\n",
            "/content/gdrive/My Drive/Colab Notebooks/dataset/samples-of-mr-images-1.0.0/E1154S7I070.png\n",
            "/content/gdrive/My Drive/Colab Notebooks/dataset/samples-of-mr-images-1.0.0/E1154S7I058.png\n",
            "/content/gdrive/My Drive/Colab Notebooks/dataset/samples-of-mr-images-1.0.0/E1154S7I068.png\n",
            "/content/gdrive/My Drive/Colab Notebooks/dataset/samples-of-mr-images-1.0.0/E1154S7I065.png\n",
            "/content/gdrive/My Drive/Colab Notebooks/dataset/samples-of-mr-images-1.0.0/E1154S7I059.png\n",
            "/content/gdrive/My Drive/Colab Notebooks/dataset/samples-of-mr-images-1.0.0/E1154S7I060.png\n",
            "/content/gdrive/My Drive/Colab Notebooks/dataset/samples-of-mr-images-1.0.0/E1154S7I064.png\n",
            "/content/gdrive/My Drive/Colab Notebooks/dataset/samples-of-mr-images-1.0.0/E1154S7I061.png\n",
            "/content/gdrive/My Drive/Colab Notebooks/dataset/samples-of-mr-images-1.0.0/E1154S7I062.png\n",
            "/content/gdrive/My Drive/Colab Notebooks/dataset/samples-of-mr-images-1.0.0/E1154S7I069.png\n",
            "/content/gdrive/My Drive/Colab Notebooks/dataset/samples-of-mr-images-1.0.0/E1154S7I066.png\n",
            "/content/gdrive/My Drive/Colab Notebooks/dataset/samples-of-mr-images-1.0.0/E1154S7I063.png\n",
            "/content/gdrive/My Drive/Colab Notebooks/dataset/samples-of-mr-images-1.0.0/E1154S7I067.png\n",
            "/content/gdrive/My Drive/Colab Notebooks/dataset/samples-of-mr-images-1.0.0/E1154S7I075.png\n",
            "/content/gdrive/My Drive/Colab Notebooks/dataset/samples-of-mr-images-1.0.0/E1154S7I073.png\n",
            "/content/gdrive/My Drive/Colab Notebooks/dataset/samples-of-mr-images-1.0.0/E1154S7I074.png\n",
            "/content/gdrive/My Drive/Colab Notebooks/dataset/samples-of-mr-images-1.0.0/E1154S7I072.png\n",
            "/content/gdrive/My Drive/Colab Notebooks/dataset/samples-of-mr-images-1.0.0/E1154S7I071.png\n",
            "finish\n"
          ],
          "name": "stdout"
        }
      ]
    }
  ]
}